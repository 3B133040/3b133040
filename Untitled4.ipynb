{
  "nbformat": 4,
  "nbformat_minor": 0,
  "metadata": {
    "colab": {
      "provenance": []
    },
    "kernelspec": {
      "name": "python3",
      "display_name": "Python 3"
    },
    "language_info": {
      "name": "python"
    }
  },
  "cells": [
    {
      "cell_type": "code",
      "execution_count": null,
      "metadata": {
        "id": "j0dMxCBGpokb"
      },
      "outputs": [],
      "source": [
        "!pip install openpyxl\n",
        "import csv\n",
        "import openpyxl\n",
        "from google.colab import drive\n",
        "drive.mount('/content/drive')\n",
        "import os\n",
        "os.chdir('/content/drive/MyDrive/Colab Notebooks')\n",
        "\n",
        "csvfile = open('population.csv')    \n",
        "raw_data = csv.reader(csvfile)     \n",
        "data = list(raw_data)              \n",
        "\n",
        "wb = openpyxl.Workbook()           \n",
        "sheet = wb.create_sheet('csv')     \n",
        "for i in data:\n",
        "    sheet.append(i)                \n",
        "\n",
        "wb.save('excel-read.xlsx')\n",
        "     "
      ]
    },
    {
      "cell_type": "code",
      "source": [
        "import openpyxl\n",
        "wb = openpyxl.load_workbook('excel-read.xlsx')    \n",
        "wb = openpyxl.load_workbook('excel-read.xlsx', data_only=True)\n",
        "\n",
        "names = wb.sheetnames    \n",
        "s1 = wb['csv']       \n",
        "s2 = wb.active         \n",
        "\n",
        "def get_values(csv):\n",
        "    a = []                      \n",
        "    for r in sheet:\n",
        "        a2 = []                \n",
        "        for c in r:\n",
        "            a2.append(c.value)  \n",
        "        a.append(a2)\n",
        "    return a\n",
        "\n",
        "print(get_values(s1))       \n"
      ],
      "metadata": {
        "id": "fH1-PjEYpps5"
      },
      "execution_count": null,
      "outputs": []
    }
  ]
}